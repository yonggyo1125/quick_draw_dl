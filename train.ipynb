{
 "cells": [
  {
   "cell_type": "code",
   "execution_count": 1,
   "id": "1d79c2e1",
   "metadata": {},
   "outputs": [],
   "source": [
    "import numpy as np\n",
    "from PIL import Image\n",
    "from sklearn.model_selection import train_test_split"
   ]
  },
  {
   "cell_type": "code",
   "execution_count": null,
   "id": "890bc251",
   "metadata": {},
   "outputs": [],
   "source": [
    "for i in range(49):\n",
    "    data_path = f\"data/data{i}.npy\"\n",
    "    target_path = f\"data/target{i}.npy\"\n",
    "    train_data = np.load(data_path)\n",
    "    target_data = np.load(target_path)\n",
    "    total = train_data.shape[0]\n",
    "    items = np.zeros((total, 224, 224, 3), dtype=np.uint8)"
   ]
  }
 ],
 "metadata": {
  "kernelspec": {
   "display_name": ".venv",
   "language": "python",
   "name": "python3"
  },
  "language_info": {
   "codemirror_mode": {
    "name": "ipython",
    "version": 3
   },
   "file_extension": ".py",
   "mimetype": "text/x-python",
   "name": "python",
   "nbconvert_exporter": "python",
   "pygments_lexer": "ipython3",
   "version": "3.12.10"
  }
 },
 "nbformat": 4,
 "nbformat_minor": 5
}
