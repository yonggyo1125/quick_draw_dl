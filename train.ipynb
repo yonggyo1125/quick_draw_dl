{
 "cells": [
  {
   "cell_type": "code",
   "execution_count": null,
   "id": "1d79c2e1",
   "metadata": {},
   "outputs": [],
   "source": [
    "import numpy as np\n",
    "from PIL import Image\n",
    "from sklearn.model_selection import train_test_split"
   ]
  },
  {
   "cell_type": "code",
   "execution_count": null,
   "id": "890bc251",
   "metadata": {},
   "outputs": [],
   "source": [
    "for i in range(49):\n",
    "    data_path = f\"data/data{i}.npy\"\n",
    "    target_path = f\"data/target{i}.npy\"\n",
    "    train_data = np.load(data_path)\n",
    "    target_data = np.load(target_path)\n",
    "    total = train_data.shape[0]\n",
    "    items = np.zeros((total, 224, 224), dtype=np.uint8)\n",
    "\n",
    "    for j in range(total):\n",
    "        items[j] = np.array(Image.fromarray(train_data[j]).resize((224, 224)))\n",
    "\n",
    "    items = np.expand_dims(items, axis=3)\n",
    "    items = np.repeat(items, 3, axis=3)\n",
    "    \n",
    "    # 훈련세트, 테스트세트 분리 \n",
    "    train_input, test_input, train_target, test_target = train_test_split(\n",
    "        items, target_data, test_size=0.1\n",
    "    )\n",
    "\n",
    "    # 훈련세트, 검증세트 분리 \n",
    "    train_input, val_input, train_target, val_target = train_test_split(\n",
    "        train_input, train_target, test_size=0.1\n",
    "    )"
   ]
  }
 ],
 "metadata": {
  "kernelspec": {
   "display_name": ".venv",
   "language": "python",
   "name": "python3"
  },
  "language_info": {
   "codemirror_mode": {
    "name": "ipython",
    "version": 3
   },
   "file_extension": ".py",
   "mimetype": "text/x-python",
   "name": "python",
   "nbconvert_exporter": "python",
   "pygments_lexer": "ipython3",
   "version": "3.12.10"
  }
 },
 "nbformat": 4,
 "nbformat_minor": 5
}
