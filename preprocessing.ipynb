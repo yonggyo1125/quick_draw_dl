{
 "cells": [
  {
   "cell_type": "code",
   "execution_count": null,
   "id": "d387c94d",
   "metadata": {},
   "outputs": [],
   "source": [
    "# 변환할 파일 목록 조회\n",
    "# [(경로, 분류명)]"
   ]
  },
  {
   "cell_type": "code",
   "execution_count": 2,
   "id": "94a3b850",
   "metadata": {},
   "outputs": [],
   "source": [
    "import numpy as np\n",
    "from glob import glob\n",
    "from PIL import Image"
   ]
  },
  {
   "cell_type": "code",
   "execution_count": 5,
   "id": "885b352a",
   "metadata": {},
   "outputs": [],
   "source": [
    "files = [(path, path.replace(\"data_original\\\\\", \"\").replace(\".npy\", \"\")) for path in glob(\"data_original/*\")]"
   ]
  },
  {
   "cell_type": "code",
   "execution_count": 10,
   "id": "1b6fb14f",
   "metadata": {},
   "outputs": [],
   "source": [
    "# 분류 정보 처리\n",
    "categories = [category for _, category in files]\n",
    "\n",
    "np.save('category.npy', np.array(categories))"
   ]
  },
  {
   "cell_type": "code",
   "execution_count": 24,
   "id": "64a10795",
   "metadata": {},
   "outputs": [
    {
     "name": "stdout",
     "output_type": "stream",
     "text": [
      "---------- data_original\\aircraft carrier.npy 변환 시작 ----------\n",
      "---------- data_original\\aircraft carrier.npy 변환 종료 ----------\n",
      "---------- data_original\\airplane.npy 변환 시작 ----------\n",
      "---------- data_original\\airplane.npy 변환 종료 ----------\n",
      "---------- data_original\\alarm clock.npy 변환 시작 ----------\n",
      "---------- data_original\\alarm clock.npy 변환 종료 ----------\n",
      "---------- data_original\\ambulance.npy 변환 시작 ----------\n",
      "---------- data_original\\ambulance.npy 변환 종료 ----------\n",
      "---------- data_original\\angel.npy 변환 시작 ----------\n",
      "---------- data_original\\angel.npy 변환 종료 ----------\n",
      "---------- data_original\\animal migration.npy 변환 시작 ----------\n",
      "---------- data_original\\animal migration.npy 변환 종료 ----------\n",
      "---------- data_original\\ant.npy 변환 시작 ----------\n",
      "---------- data_original\\ant.npy 변환 종료 ----------\n",
      "---------- data_original\\anvil.npy 변환 시작 ----------\n",
      "---------- data_original\\anvil.npy 변환 종료 ----------\n",
      "---------- data_original\\apple.npy 변환 시작 ----------\n",
      "---------- data_original\\apple.npy 변환 종료 ----------\n",
      "---------- data_original\\arm.npy 변환 시작 ----------\n",
      "---------- data_original\\arm.npy 변환 종료 ----------\n",
      "---------- data_original\\asparagus.npy 변환 시작 ----------\n",
      "---------- data_original\\asparagus.npy 변환 종료 ----------\n",
      "---------- data_original\\axe.npy 변환 시작 ----------\n",
      "---------- data_original\\axe.npy 변환 종료 ----------\n",
      "---------- data_original\\backpack.npy 변환 시작 ----------\n",
      "---------- data_original\\backpack.npy 변환 종료 ----------\n",
      "---------- data_original\\banana.npy 변환 시작 ----------\n",
      "---------- data_original\\banana.npy 변환 종료 ----------\n",
      "---------- data_original\\barn.npy 변환 시작 ----------\n",
      "---------- data_original\\barn.npy 변환 종료 ----------\n",
      "---------- data_original\\baseball bat.npy 변환 시작 ----------\n",
      "---------- data_original\\baseball bat.npy 변환 종료 ----------\n",
      "---------- data_original\\baseball.npy 변환 시작 ----------\n",
      "---------- data_original\\baseball.npy 변환 종료 ----------\n",
      "---------- data_original\\basket.npy 변환 시작 ----------\n",
      "---------- data_original\\basket.npy 변환 종료 ----------\n",
      "---------- data_original\\basketball.npy 변환 시작 ----------\n",
      "---------- data_original\\basketball.npy 변환 종료 ----------\n",
      "---------- data_original\\bat.npy 변환 시작 ----------\n",
      "---------- data_original\\bat.npy 변환 종료 ----------\n",
      "---------- data_original\\bathtub.npy 변환 시작 ----------\n",
      "---------- data_original\\bathtub.npy 변환 종료 ----------\n",
      "---------- data_original\\beach.npy 변환 시작 ----------\n",
      "---------- data_original\\beach.npy 변환 종료 ----------\n",
      "---------- data_original\\bear.npy 변환 시작 ----------\n",
      "---------- data_original\\bear.npy 변환 종료 ----------\n",
      "---------- data_original\\beard.npy 변환 시작 ----------\n",
      "---------- data_original\\beard.npy 변환 종료 ----------\n",
      "---------- data_original\\bed.npy 변환 시작 ----------\n",
      "---------- data_original\\bed.npy 변환 종료 ----------\n",
      "---------- data_original\\bee.npy 변환 시작 ----------\n",
      "---------- data_original\\bee.npy 변환 종료 ----------\n",
      "---------- data_original\\belt.npy 변환 시작 ----------\n",
      "---------- data_original\\belt.npy 변환 종료 ----------\n",
      "---------- data_original\\bench.npy 변환 시작 ----------\n",
      "---------- data_original\\bench.npy 변환 종료 ----------\n",
      "---------- data_original\\bicycle.npy 변환 시작 ----------\n",
      "---------- data_original\\bicycle.npy 변환 종료 ----------\n",
      "---------- data_original\\binoculars.npy 변환 시작 ----------\n",
      "---------- data_original\\binoculars.npy 변환 종료 ----------\n",
      "---------- data_original\\bird.npy 변환 시작 ----------\n",
      "---------- data_original\\bird.npy 변환 종료 ----------\n",
      "---------- data_original\\birthday cake.npy 변환 시작 ----------\n",
      "---------- data_original\\birthday cake.npy 변환 종료 ----------\n",
      "---------- data_original\\blackberry.npy 변환 시작 ----------\n",
      "---------- data_original\\blackberry.npy 변환 종료 ----------\n",
      "---------- data_original\\blueberry.npy 변환 시작 ----------\n",
      "---------- data_original\\blueberry.npy 변환 종료 ----------\n",
      "---------- data_original\\book.npy 변환 시작 ----------\n",
      "---------- data_original\\book.npy 변환 종료 ----------\n",
      "---------- data_original\\boomerang.npy 변환 시작 ----------\n",
      "---------- data_original\\boomerang.npy 변환 종료 ----------\n",
      "---------- data_original\\bottlecap.npy 변환 시작 ----------\n",
      "---------- data_original\\bottlecap.npy 변환 종료 ----------\n",
      "---------- data_original\\bowtie.npy 변환 시작 ----------\n",
      "---------- data_original\\bowtie.npy 변환 종료 ----------\n",
      "---------- data_original\\bracelet.npy 변환 시작 ----------\n",
      "---------- data_original\\bracelet.npy 변환 종료 ----------\n",
      "---------- data_original\\brain.npy 변환 시작 ----------\n",
      "---------- data_original\\brain.npy 변환 종료 ----------\n",
      "---------- data_original\\bread.npy 변환 시작 ----------\n",
      "---------- data_original\\bread.npy 변환 종료 ----------\n",
      "---------- data_original\\bridge.npy 변환 시작 ----------\n",
      "---------- data_original\\bridge.npy 변환 종료 ----------\n",
      "---------- data_original\\broccoli.npy 변환 시작 ----------\n",
      "---------- data_original\\broccoli.npy 변환 종료 ----------\n",
      "---------- data_original\\broom.npy 변환 시작 ----------\n",
      "---------- data_original\\broom.npy 변환 종료 ----------\n",
      "---------- data_original\\bucket.npy 변환 시작 ----------\n",
      "---------- data_original\\bucket.npy 변환 종료 ----------\n",
      "---------- data_original\\bulldozer.npy 변환 시작 ----------\n",
      "---------- data_original\\bulldozer.npy 변환 종료 ----------\n",
      "---------- data_original\\The Eiffel Tower.npy 변환 시작 ----------\n",
      "---------- data_original\\The Eiffel Tower.npy 변환 종료 ----------\n",
      "---------- data_original\\The Great Wall of China.npy 변환 시작 ----------\n",
      "---------- data_original\\The Great Wall of China.npy 변환 종료 ----------\n",
      "---------- data_original\\The Mona Lisa.npy 변환 시작 ----------\n",
      "---------- data_original\\The Mona Lisa.npy 변환 종료 ----------\n"
     ]
    }
   ],
   "source": [
    "# data_original에 있는 이미지(28 X 28) -> 224 X 224 변환해서 data에 저장  \n",
    "for path, _ in files:\n",
    "    print('-' * 10, path, '변환 시작', '-' *10)\n",
    "    data = np.load(path)\n",
    "    data = data[:10000].reshape(-1, 28, 28)\n",
    "    total = data.shape[0]\n",
    "    resized_data = np.zeros((total, 224, 224), dtype=np.uint8)\n",
    "    for i in range(total):\n",
    "        img = np.array(Image.fromarray(data[i]).resize((224, 224)))\n",
    "        resized_data[i] = img\n",
    "    \n",
    "    np.save(path.replace(\"_original\", \"\"), resized_data)\n",
    "    print('-' * 10, path, '변환 종료', '-' *10)"
   ]
  },
  {
   "cell_type": "code",
   "execution_count": 20,
   "id": "1df0c709",
   "metadata": {},
   "outputs": [],
   "source": [
    "# 변환 이미지 테스트 \n",
    "items = np.load(\"data/aircraft carrier.npy\")"
   ]
  },
  {
   "cell_type": "code",
   "execution_count": 21,
   "id": "6fda3fd0",
   "metadata": {},
   "outputs": [
    {
     "data": {
      "text/plain": [
       "(10000, 224, 224)"
      ]
     },
     "execution_count": 21,
     "metadata": {},
     "output_type": "execute_result"
    }
   ],
   "source": [
    "items.shape"
   ]
  },
  {
   "cell_type": "code",
   "execution_count": 22,
   "id": "ea7c37b3",
   "metadata": {},
   "outputs": [
    {
     "data": {
      "image/png": "[encoded data removed]",
      "text/plain": [
       "<Figure size 640x480 with 1 Axes>"
      ]
     },
     "metadata": {},
     "output_type": "display_data"
    }
   ],
   "source": [
    "import matplotlib.pyplot as plt\n",
    "plt.imshow(items[0], cmap='gray_r')\n",
    "plt.show()"
   ]
  }
 ],
 "metadata": {
  "kernelspec": {
   "display_name": ".venv",
   "language": "python",
   "name": "python3"
  },
  "language_info": {
   "codemirror_mode": {
    "name": "ipython",
    "version": 3
   },
   "file_extension": ".py",
   "mimetype": "text/x-python",
   "name": "python",
   "nbconvert_exporter": "python",
   "pygments_lexer": "ipython3",
   "version": "3.12.10"
  }
 },
 "nbformat": 4,
 "nbformat_minor": 5
}
