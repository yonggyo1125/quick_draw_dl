{
 "cells": [
  {
   "cell_type": "code",
   "execution_count": null,
   "id": "d387c94d",
   "metadata": {},
   "outputs": [],
   "source": [
    "# 변환할 파일 목록 조회\n",
    "# [(경로, 분류명)]"
   ]
  },
  {
   "cell_type": "code",
   "execution_count": 2,
   "id": "94a3b850",
   "metadata": {},
   "outputs": [],
   "source": [
    "import numpy as np\n",
    "from glob import glob\n",
    "from PIL import Image"
   ]
  },
  {
   "cell_type": "code",
   "execution_count": 5,
   "id": "885b352a",
   "metadata": {},
   "outputs": [],
   "source": [
    "files = [(path, path.replace(\"data_original\\\\\", \"\").replace(\".npy\", \"\")) for path in glob(\"data_original/*\")]"
   ]
  },
  {
   "cell_type": "code",
   "execution_count": 10,
   "id": "1b6fb14f",
   "metadata": {},
   "outputs": [],
   "source": [
    "# 분류 정보 처리\n",
    "categories = [category for _, category in files]\n",
    "\n",
    "np.save('category.npy', np.array(categories))"
   ]
  },
  {
   "cell_type": "code",
   "execution_count": null,
   "id": "64a10795",
   "metadata": {},
   "outputs": [
    {
     "name": "stdout",
     "output_type": "stream",
     "text": [
      "(116504, 28, 28)\n"
     ]
    }
   ],
   "source": [
    "# data_original에 있는 이미지(28 X 28) -> 224 X 224 변환해서 data에 저장  \n",
    "for path, _ in files[:1]:\n",
    "    print('-' * 10, path, '변환 시작', '-' *10)\n",
    "    data = np.load(path)\n",
    "    data = data.reshape(-1, 28, 28)\n",
    "    total = data.shape[0]\n",
    "    resized_data = np.zeros((total, 224, 224), dtype=np.uint8)\n",
    "    for i in range(total):\n",
    "        img = np.array(Image.fromarray(data[i]).resize((224, 224)))\n",
    "        resized_data[i] = img\n",
    "    \n",
    "    np.save(path.replace(\"_original\", \"\"), resized_data)\n",
    "    print('-' * 10, path, '변환 종료', '-' *10)"
   ]
  }
 ],
 "metadata": {
  "kernelspec": {
   "display_name": ".venv",
   "language": "python",
   "name": "python3"
  },
  "language_info": {
   "codemirror_mode": {
    "name": "ipython",
    "version": 3
   },
   "file_extension": ".py",
   "mimetype": "text/x-python",
   "name": "python",
   "nbconvert_exporter": "python",
   "pygments_lexer": "ipython3",
   "version": "3.12.10"
  }
 },
 "nbformat": 4,
 "nbformat_minor": 5
}
