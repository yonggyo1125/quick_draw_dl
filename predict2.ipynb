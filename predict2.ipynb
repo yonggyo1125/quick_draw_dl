{
 "cells": [
  {
   "cell_type": "code",
   "execution_count": 49,
   "id": "c85ab467",
   "metadata": {},
   "outputs": [],
   "source": [
    "import keras\n",
    "model = keras.models.load_model(\"best-model.keras\")"
   ]
  },
  {
   "cell_type": "code",
   "execution_count": 50,
   "id": "21f3798b",
   "metadata": {},
   "outputs": [],
   "source": [
    "import numpy as np\n",
    "import matplotlib.pyplot as plt\n",
    "from PIL import Image \n",
    "\n",
    "image = np.array(Image.open(\"sample.jpg\").resize((224, 224)))\n",
    "\n"
   ]
  },
  {
   "cell_type": "code",
   "execution_count": 51,
   "id": "ffb95a2e",
   "metadata": {},
   "outputs": [
    {
     "data": {
      "text/plain": [
       "(224, 224, 3)"
      ]
     },
     "execution_count": 51,
     "metadata": {},
     "output_type": "execute_result"
    }
   ],
   "source": [
    "image = np.invert(image)\n",
    "image.shape"
   ]
  },
  {
   "cell_type": "code",
   "execution_count": 68,
   "id": "d223fde1",
   "metadata": {},
   "outputs": [],
   "source": [
    "categories = np.load(\"category.npy\")"
   ]
  },
  {
   "cell_type": "code",
   "execution_count": 69,
   "id": "e1049462",
   "metadata": {},
   "outputs": [
    {
     "name": "stdout",
     "output_type": "stream",
     "text": [
      "\u001b[1m1/1\u001b[0m \u001b[32m━━━━━━━━━━━━━━━━━━━━\u001b[0m\u001b[37m\u001b[0m \u001b[1m0s\u001b[0m 43ms/step\n"
     ]
    },
    {
     "name": "stderr",
     "output_type": "stream",
     "text": [
      "C:\\Users\\admin\\AppData\\Local\\Temp\\ipykernel_12444\\3173922637.py:2: DeprecationWarning: Conversion of an array with ndim > 0 to a scalar is deprecated, and will error in future. Ensure you extract a single element from your array before performing this operation. (Deprecated NumPy 1.25.)\n",
      "  index = int(np.argmax(predictions, axis=1))\n"
     ]
    },
    {
     "data": {
      "text/plain": [
       "array(['bowtie', 'animal migration', 'axe'], dtype='<U23')"
      ]
     },
     "execution_count": 69,
     "metadata": {},
     "output_type": "execute_result"
    }
   ],
   "source": [
    "predictions = model.predict(image[np.newaxis, :, :, :])\n",
    "index = int(np.argmax(predictions, axis=1))\n",
    "categories[index]\n",
    "\n",
    "answers = np.argsort(predictions[0]).tolist()\n",
    "answers.reverse()\n",
    "categories[answers[:3]]"
   ]
  },
  {
   "cell_type": "code",
   "execution_count": null,
   "id": "21735a42",
   "metadata": {},
   "outputs": [],
   "source": []
  }
 ],
 "metadata": {
  "kernelspec": {
   "display_name": ".venv",
   "language": "python",
   "name": "python3"
  },
  "language_info": {
   "codemirror_mode": {
    "name": "ipython",
    "version": 3
   },
   "file_extension": ".py",
   "mimetype": "text/x-python",
   "name": "python",
   "nbconvert_exporter": "python",
   "pygments_lexer": "ipython3",
   "version": "3.12.10"
  }
 },
 "nbformat": 4,
 "nbformat_minor": 5
}
